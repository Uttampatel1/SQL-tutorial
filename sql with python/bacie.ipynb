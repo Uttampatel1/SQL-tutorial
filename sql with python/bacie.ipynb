{
 "cells": [
  {
   "cell_type": "code",
   "execution_count": 1,
   "id": "6f448c6f",
   "metadata": {},
   "outputs": [],
   "source": [
    "import sqlite3"
   ]
  },
  {
   "cell_type": "code",
   "execution_count": 2,
   "id": "990b5688",
   "metadata": {},
   "outputs": [],
   "source": [
    "connection = sqlite3.connect('OurDataBase.db')"
   ]
  },
  {
   "cell_type": "code",
   "execution_count": 5,
   "id": "b456aa66",
   "metadata": {},
   "outputs": [],
   "source": [
    "cursor = connection.cursor()"
   ]
  },
  {
   "cell_type": "code",
   "execution_count": 6,
   "id": "c4df6afe",
   "metadata": {},
   "outputs": [],
   "source": [
    "#SQL datatype\n",
    "\n",
    "#integer\n",
    "#real\n",
    "#text\n",
    "#blobs(binery large object)\n",
    "#null"
   ]
  },
  {
   "cell_type": "code",
   "execution_count": 7,
   "id": "3efb7451",
   "metadata": {},
   "outputs": [
    {
     "data": {
      "text/plain": [
       "<sqlite3.Cursor at 0x18fb8c83d50>"
      ]
     },
     "execution_count": 7,
     "metadata": {},
     "output_type": "execute_result"
    }
   ],
   "source": [
    "cursor.execute('CREATE TABLE employees(name TEXT,sarname TEXT,salary REAL)')"
   ]
  },
  {
   "cell_type": "code",
   "execution_count": 8,
   "id": "954dd01c",
   "metadata": {},
   "outputs": [],
   "source": [
    "connection.commit()"
   ]
  },
  {
   "cell_type": "code",
   "execution_count": 18,
   "id": "04fd4d34",
   "metadata": {},
   "outputs": [
    {
     "data": {
      "text/plain": [
       "<sqlite3.Cursor at 0x18fb8c83d50>"
      ]
     },
     "execution_count": 18,
     "metadata": {},
     "output_type": "execute_result"
    }
   ],
   "source": [
    "cursor.execute(\"INSERT INTO employees VALUES('mitali','navadiya','1000000')\")"
   ]
  },
  {
   "cell_type": "code",
   "execution_count": 19,
   "id": "df411c92",
   "metadata": {},
   "outputs": [],
   "source": [
    "connection.commit()"
   ]
  },
  {
   "cell_type": "code",
   "execution_count": 27,
   "id": "7b570585",
   "metadata": {},
   "outputs": [
    {
     "data": {
      "text/plain": [
       "<sqlite3.Cursor at 0x18fb8c83d50>"
      ]
     },
     "execution_count": 27,
     "metadata": {},
     "output_type": "execute_result"
    }
   ],
   "source": [
    "cursor.execute(\"SELECT * FROM employees\")"
   ]
  },
  {
   "cell_type": "code",
   "execution_count": 25,
   "id": "59fb67d6",
   "metadata": {},
   "outputs": [
    {
     "data": {
      "text/plain": [
       "('uttam', 'pipaliya', 1000000.0)"
      ]
     },
     "execution_count": 25,
     "metadata": {},
     "output_type": "execute_result"
    }
   ],
   "source": [
    "cursor.fetchone()"
   ]
  },
  {
   "cell_type": "markdown",
   "id": "b3c7269c",
   "metadata": {},
   "source": [
    "cursor.fetchone()"
   ]
  },
  {
   "cell_type": "code",
   "execution_count": 26,
   "id": "b6ce0bee",
   "metadata": {},
   "outputs": [
    {
     "data": {
      "text/plain": [
       "[('mitali', 'navadiya', 1000000.0)]"
      ]
     },
     "execution_count": 26,
     "metadata": {},
     "output_type": "execute_result"
    }
   ],
   "source": [
    "cursor.fetchall()"
   ]
  },
  {
   "cell_type": "code",
   "execution_count": 28,
   "id": "14b892c5",
   "metadata": {},
   "outputs": [
    {
     "name": "stdout",
     "output_type": "stream",
     "text": [
      "('uttam', 'pipaliya', 1000000.0)\n",
      "('mitali', 'navadiya', 1000000.0)\n"
     ]
    }
   ],
   "source": [
    "for i in cursor.execute(\"SELECT * FROM employees\"):\n",
    "    print(i)"
   ]
  },
  {
   "cell_type": "code",
   "execution_count": 29,
   "id": "b675864b",
   "metadata": {},
   "outputs": [],
   "source": [
    "name = \"apush\"\n",
    "surname = 'pipaliya'\n",
    "salary = 5000000"
   ]
  },
  {
   "cell_type": "code",
   "execution_count": null,
   "id": "9ab9e6db",
   "metadata": {},
   "outputs": [],
   "source": [
    "name = input(\"enter your name:\")\n",
    "surname = input(\"Enter your Surname:\")\n",
    "salary = float(input(\"Enter your salary:\"))"
   ]
  },
  {
   "cell_type": "code",
   "execution_count": 30,
   "id": "b3525fe9",
   "metadata": {},
   "outputs": [
    {
     "data": {
      "text/plain": [
       "<sqlite3.Cursor at 0x18fb8c83d50>"
      ]
     },
     "execution_count": 30,
     "metadata": {},
     "output_type": "execute_result"
    }
   ],
   "source": [
    "cursor.execute(\"INSERT INTO employees VALUES(?,?,?)\",(name,surname,salary))"
   ]
  },
  {
   "cell_type": "code",
   "execution_count": 31,
   "id": "54303705",
   "metadata": {},
   "outputs": [
    {
     "data": {
      "text/plain": [
       "<sqlite3.Cursor at 0x18fb8c83d50>"
      ]
     },
     "execution_count": 31,
     "metadata": {},
     "output_type": "execute_result"
    }
   ],
   "source": [
    "cursor.execute(\"SELECT * FROM employees\")"
   ]
  },
  {
   "cell_type": "code",
   "execution_count": 32,
   "id": "fe6711aa",
   "metadata": {},
   "outputs": [
    {
     "data": {
      "text/plain": [
       "[('uttam', 'pipaliya', 1000000.0),\n",
       " ('mitali', 'navadiya', 1000000.0),\n",
       " ('apush', 'pipaliya', 5000000.0)]"
      ]
     },
     "execution_count": 32,
     "metadata": {},
     "output_type": "execute_result"
    }
   ],
   "source": [
    "cursor.fetchall()"
   ]
  },
  {
   "cell_type": "code",
   "execution_count": 35,
   "id": "d6eaa437",
   "metadata": {},
   "outputs": [],
   "source": [
    "class SQLinput:\n",
    "    \n",
    "    def __init__(self,name,surname,salary):\n",
    "        self.name = name\n",
    "        self.surname = surname\n",
    "        self.salary = salary"
   ]
  },
  {
   "cell_type": "code",
   "execution_count": 36,
   "id": "16d8ac00",
   "metadata": {},
   "outputs": [],
   "source": [
    "inst = SQLinput('dhruval','savaliya',4000000)"
   ]
  },
  {
   "cell_type": "markdown",
   "id": "a8e60a4e",
   "metadata": {},
   "source": []
  },
  {
   "cell_type": "code",
   "execution_count": 37,
   "id": "7091344b",
   "metadata": {},
   "outputs": [],
   "source": [
    "name,surname,salary = inst.name,inst.surname,inst.salary\n"
   ]
  },
  {
   "cell_type": "code",
   "execution_count": 38,
   "id": "83e2e4af",
   "metadata": {},
   "outputs": [
    {
     "data": {
      "text/plain": [
       "<sqlite3.Cursor at 0x18fb8c83d50>"
      ]
     },
     "execution_count": 38,
     "metadata": {},
     "output_type": "execute_result"
    }
   ],
   "source": [
    "cursor.execute(\"INSERT INTO employees VALUES(?,?,?)\",(name,surname,salary))"
   ]
  },
  {
   "cell_type": "code",
   "execution_count": 40,
   "id": "8b8321dd",
   "metadata": {},
   "outputs": [
    {
     "data": {
      "text/plain": [
       "<sqlite3.Cursor at 0x18fb8c83d50>"
      ]
     },
     "execution_count": 40,
     "metadata": {},
     "output_type": "execute_result"
    }
   ],
   "source": [
    "cursor.execute(\"SELECT * FROM employees\")"
   ]
  },
  {
   "cell_type": "code",
   "execution_count": 42,
   "id": "7c5de4c3",
   "metadata": {},
   "outputs": [
    {
     "data": {
      "text/plain": [
       "[('uttam', 'pipaliya', 1000000.0),\n",
       " ('mitali', 'navadiya', 1000000.0),\n",
       " ('apush', 'pipaliya', 5000000.0),\n",
       " ('dhruval', 'savaliya', 4000000.0)]"
      ]
     },
     "execution_count": 42,
     "metadata": {},
     "output_type": "execute_result"
    }
   ],
   "source": [
    "cursor.fetchall()"
   ]
  },
  {
   "cell_type": "code",
   "execution_count": null,
   "id": "a50ac513",
   "metadata": {},
   "outputs": [],
   "source": []
  }
 ],
 "metadata": {
  "kernelspec": {
   "display_name": "Python 3 (ipykernel)",
   "language": "python",
   "name": "python3"
  },
  "language_info": {
   "codemirror_mode": {
    "name": "ipython",
    "version": 3
   },
   "file_extension": ".py",
   "mimetype": "text/x-python",
   "name": "python",
   "nbconvert_exporter": "python",
   "pygments_lexer": "ipython3",
   "version": "3.9.12"
  }
 },
 "nbformat": 4,
 "nbformat_minor": 5
}
